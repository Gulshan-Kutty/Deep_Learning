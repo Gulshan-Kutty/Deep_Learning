{
 "cells": [
  {
   "cell_type": "code",
   "execution_count": 1,
   "id": "139d07cb",
   "metadata": {},
   "outputs": [],
   "source": [
    "import pandas as pd\n",
    "import numpy as np"
   ]
  },
  {
   "cell_type": "code",
   "execution_count": 2,
   "id": "5bf112aa",
   "metadata": {},
   "outputs": [],
   "source": [
    "from tensorflow.keras.models import Model\n",
    "from tensorflow.keras.layers import Input,Dense"
   ]
  },
  {
   "cell_type": "code",
   "execution_count": 10,
   "id": "5d0c2df9",
   "metadata": {},
   "outputs": [],
   "source": [
    "inp = Input(shape=(784,))"
   ]
  },
  {
   "cell_type": "code",
   "execution_count": 11,
   "id": "1a2518f8",
   "metadata": {},
   "outputs": [],
   "source": [
    "hid1 = Dense(20,'relu')(inp)"
   ]
  },
  {
   "cell_type": "code",
   "execution_count": 12,
   "id": "14da0553",
   "metadata": {},
   "outputs": [],
   "source": [
    "hid2 = Dense(20,'relu')(hid1)"
   ]
  },
  {
   "cell_type": "code",
   "execution_count": 13,
   "id": "7e377773",
   "metadata": {},
   "outputs": [],
   "source": [
    "out = Dense(2,'softmax')(hid2)"
   ]
  },
  {
   "cell_type": "code",
   "execution_count": 14,
   "id": "a37fe24f",
   "metadata": {},
   "outputs": [],
   "source": [
    "model = Model(inputs = inp, outputs = out)"
   ]
  },
  {
   "cell_type": "code",
   "execution_count": 15,
   "id": "f9854548",
   "metadata": {},
   "outputs": [
    {
     "name": "stdout",
     "output_type": "stream",
     "text": [
      "Model: \"model\"\n",
      "_________________________________________________________________\n",
      " Layer (type)                Output Shape              Param #   \n",
      "=================================================================\n",
      " input_1 (InputLayer)        [(None, 784)]             0         \n",
      "                                                                 \n",
      " dense (Dense)               (None, 20)                15700     \n",
      "                                                                 \n",
      " dense_1 (Dense)             (None, 20)                420       \n",
      "                                                                 \n",
      " dense_2 (Dense)             (None, 2)                 42        \n",
      "                                                                 \n",
      "=================================================================\n",
      "Total params: 16,162\n",
      "Trainable params: 16,162\n",
      "Non-trainable params: 0\n",
      "_________________________________________________________________\n"
     ]
    }
   ],
   "source": [
    "model.summary()"
   ]
  },
  {
   "cell_type": "code",
   "execution_count": 16,
   "id": "d0a82e31",
   "metadata": {},
   "outputs": [],
   "source": [
    "model.compile(optimizer='adam',loss='mse',metrics=['accuracy'])"
   ]
  },
  {
   "cell_type": "code",
   "execution_count": null,
   "id": "b8694afc",
   "metadata": {},
   "outputs": [],
   "source": []
  },
  {
   "cell_type": "code",
   "execution_count": null,
   "id": "79c85fa0",
   "metadata": {},
   "outputs": [],
   "source": []
  }
 ],
 "metadata": {
  "kernelspec": {
   "display_name": "Python 3 (ipykernel)",
   "language": "python",
   "name": "python3"
  },
  "language_info": {
   "codemirror_mode": {
    "name": "ipython",
    "version": 3
   },
   "file_extension": ".py",
   "mimetype": "text/x-python",
   "name": "python",
   "nbconvert_exporter": "python",
   "pygments_lexer": "ipython3",
   "version": "3.9.13"
  }
 },
 "nbformat": 4,
 "nbformat_minor": 5
}
