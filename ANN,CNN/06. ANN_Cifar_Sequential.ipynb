{
 "cells": [
  {
   "cell_type": "code",
   "execution_count": 1,
   "id": "4200218b",
   "metadata": {},
   "outputs": [],
   "source": [
    "import numpy as np\n",
    "import pandas as pd"
   ]
  },
  {
   "cell_type": "code",
   "execution_count": 2,
   "id": "6ca26ecc",
   "metadata": {},
   "outputs": [],
   "source": [
    "from tensorflow.keras.datasets import cifar10\n",
    "from tensorflow.keras.models import Sequential\n",
    "from tensorflow.keras.layers import Dense, Flatten"
   ]
  },
  {
   "cell_type": "code",
   "execution_count": 4,
   "id": "5c2708e0",
   "metadata": {},
   "outputs": [
    {
     "name": "stdout",
     "output_type": "stream",
     "text": [
      "Downloading data from https://www.cs.toronto.edu/~kriz/cifar-10-python.tar.gz\n",
      "170498071/170498071 [==============================] - 138s 1us/step\n"
     ]
    }
   ],
   "source": [
    "(Xtrain,ytrain),(Xtest,ytest) = cifar10.load_data()"
   ]
  },
  {
   "cell_type": "code",
   "execution_count": 5,
   "id": "82dc4f78",
   "metadata": {},
   "outputs": [
    {
     "data": {
      "text/plain": [
       "(50000, 32, 32, 3)"
      ]
     },
     "execution_count": 5,
     "metadata": {},
     "output_type": "execute_result"
    }
   ],
   "source": [
    "Xtrain.shape"
   ]
  },
  {
   "cell_type": "code",
   "execution_count": 6,
   "id": "5fbe3e7c",
   "metadata": {},
   "outputs": [
    {
     "data": {
      "text/plain": [
       "(10000, 32, 32, 3)"
      ]
     },
     "execution_count": 6,
     "metadata": {},
     "output_type": "execute_result"
    }
   ],
   "source": [
    "Xtest.shape"
   ]
  },
  {
   "cell_type": "code",
   "execution_count": 7,
   "id": "1c1d5266",
   "metadata": {},
   "outputs": [
    {
     "data": {
      "text/plain": [
       "array([[[ 59,  62,  63],\n",
       "        [ 43,  46,  45],\n",
       "        [ 50,  48,  43],\n",
       "        ...,\n",
       "        [158, 132, 108],\n",
       "        [152, 125, 102],\n",
       "        [148, 124, 103]],\n",
       "\n",
       "       [[ 16,  20,  20],\n",
       "        [  0,   0,   0],\n",
       "        [ 18,   8,   0],\n",
       "        ...,\n",
       "        [123,  88,  55],\n",
       "        [119,  83,  50],\n",
       "        [122,  87,  57]],\n",
       "\n",
       "       [[ 25,  24,  21],\n",
       "        [ 16,   7,   0],\n",
       "        [ 49,  27,   8],\n",
       "        ...,\n",
       "        [118,  84,  50],\n",
       "        [120,  84,  50],\n",
       "        [109,  73,  42]],\n",
       "\n",
       "       ...,\n",
       "\n",
       "       [[208, 170,  96],\n",
       "        [201, 153,  34],\n",
       "        [198, 161,  26],\n",
       "        ...,\n",
       "        [160, 133,  70],\n",
       "        [ 56,  31,   7],\n",
       "        [ 53,  34,  20]],\n",
       "\n",
       "       [[180, 139,  96],\n",
       "        [173, 123,  42],\n",
       "        [186, 144,  30],\n",
       "        ...,\n",
       "        [184, 148,  94],\n",
       "        [ 97,  62,  34],\n",
       "        [ 83,  53,  34]],\n",
       "\n",
       "       [[177, 144, 116],\n",
       "        [168, 129,  94],\n",
       "        [179, 142,  87],\n",
       "        ...,\n",
       "        [216, 184, 140],\n",
       "        [151, 118,  84],\n",
       "        [123,  92,  72]]], dtype=uint8)"
      ]
     },
     "execution_count": 7,
     "metadata": {},
     "output_type": "execute_result"
    }
   ],
   "source": [
    "Xtrain[0]"
   ]
  },
  {
   "cell_type": "code",
   "execution_count": 8,
   "id": "892c7c9c",
   "metadata": {},
   "outputs": [],
   "source": [
    "import matplotlib.pyplot as plt"
   ]
  },
  {
   "cell_type": "code",
   "execution_count": 9,
   "id": "9e318120",
   "metadata": {},
   "outputs": [
    {
     "data": {
      "text/plain": [
       "<matplotlib.image.AxesImage at 0x25635dd7790>"
      ]
     },
     "execution_count": 9,
     "metadata": {},
     "output_type": "execute_result"
    },
    {
     "data": {
      "image/png": "[encoded data removed]",
      "text/plain": [
       "<Figure size 640x480 with 1 Axes>"
      ]
     },
     "metadata": {},
     "output_type": "display_data"
    }
   ],
   "source": [
    "plt.imshow(Xtrain[6])"
   ]
  },
  {
   "cell_type": "code",
   "execution_count": 10,
   "id": "432d986b",
   "metadata": {},
   "outputs": [],
   "source": [
    "labels = ['airplane', 'automobile', 'bird', 'cat','deer','dog', 'frog','horse','ship','truck']"
   ]
  },
  {
   "cell_type": "code",
   "execution_count": 11,
   "id": "fc7470a6",
   "metadata": {},
   "outputs": [
    {
     "data": {
      "text/plain": [
       "array([2], dtype=uint8)"
      ]
     },
     "execution_count": 11,
     "metadata": {},
     "output_type": "execute_result"
    }
   ],
   "source": [
    "ytrain[6]"
   ]
  },
  {
   "cell_type": "code",
   "execution_count": 12,
   "id": "cea0887c",
   "metadata": {},
   "outputs": [
    {
     "data": {
      "text/plain": [
       "'bird'"
      ]
     },
     "execution_count": 12,
     "metadata": {},
     "output_type": "execute_result"
    }
   ],
   "source": [
    "labels[2]"
   ]
  },
  {
   "cell_type": "code",
   "execution_count": 13,
   "id": "bc199763",
   "metadata": {},
   "outputs": [],
   "source": [
    "Xtrain_scaled = Xtrain/255.0"
   ]
  },
  {
   "cell_type": "code",
   "execution_count": 14,
   "id": "69f4a37e",
   "metadata": {},
   "outputs": [],
   "source": [
    "Xtest_scaled = Xtest/255.0"
   ]
  },
  {
   "cell_type": "code",
   "execution_count": 15,
   "id": "2a761e73",
   "metadata": {},
   "outputs": [
    {
     "data": {
      "text/plain": [
       "array([[[252,   8,  42],\n",
       "        [249,  15,  42],\n",
       "        [250,   8,  39],\n",
       "        ...,\n",
       "        [251,   1,  11],\n",
       "        [251,   0,  15],\n",
       "        [251,   1,  30]],\n",
       "\n",
       "       [[255,   7,  43],\n",
       "        [252,  15,  44],\n",
       "        [253,  13,  42],\n",
       "        ...,\n",
       "        [255,   1,  11],\n",
       "        [255,   0,  18],\n",
       "        [254,   4,  33]],\n",
       "\n",
       "       [[253,   6,  42],\n",
       "        [250,  16,  42],\n",
       "        [250,  24,  43],\n",
       "        ...,\n",
       "        [254,   1,  10],\n",
       "        [254,   0,  20],\n",
       "        [252,   9,  37]],\n",
       "\n",
       "       ...,\n",
       "\n",
       "       [[254,  66,  94],\n",
       "        [252,  62,  92],\n",
       "        [253,  64,  93],\n",
       "        ...,\n",
       "        [252,  70, 101],\n",
       "        [253,  69, 103],\n",
       "        [252,  70, 104]],\n",
       "\n",
       "       [[250,  49,  81],\n",
       "        [252,  53,  82],\n",
       "        [255,  59,  86],\n",
       "        ...,\n",
       "        [254,  70, 103],\n",
       "        [255,  68, 100],\n",
       "        [254,  59,  89]],\n",
       "\n",
       "       [[236,  37,  68],\n",
       "        [249,  48,  76],\n",
       "        [250,  42,  73],\n",
       "        ...,\n",
       "        [250,  78, 113],\n",
       "        [250,  74, 109],\n",
       "        [251,  58,  88]]], dtype=uint8)"
      ]
     },
     "execution_count": 15,
     "metadata": {},
     "output_type": "execute_result"
    }
   ],
   "source": [
    "Xtrain[21]"
   ]
  },
  {
   "cell_type": "code",
   "execution_count": 16,
   "id": "8b4387f3",
   "metadata": {},
   "outputs": [
    {
     "data": {
      "text/plain": [
       "array([[[0.98823529, 0.03137255, 0.16470588],\n",
       "        [0.97647059, 0.05882353, 0.16470588],\n",
       "        [0.98039216, 0.03137255, 0.15294118],\n",
       "        ...,\n",
       "        [0.98431373, 0.00392157, 0.04313725],\n",
       "        [0.98431373, 0.        , 0.05882353],\n",
       "        [0.98431373, 0.00392157, 0.11764706]],\n",
       "\n",
       "       [[1.        , 0.02745098, 0.16862745],\n",
       "        [0.98823529, 0.05882353, 0.17254902],\n",
       "        [0.99215686, 0.05098039, 0.16470588],\n",
       "        ...,\n",
       "        [1.        , 0.00392157, 0.04313725],\n",
       "        [1.        , 0.        , 0.07058824],\n",
       "        [0.99607843, 0.01568627, 0.12941176]],\n",
       "\n",
       "       [[0.99215686, 0.02352941, 0.16470588],\n",
       "        [0.98039216, 0.0627451 , 0.16470588],\n",
       "        [0.98039216, 0.09411765, 0.16862745],\n",
       "        ...,\n",
       "        [0.99607843, 0.00392157, 0.03921569],\n",
       "        [0.99607843, 0.        , 0.07843137],\n",
       "        [0.98823529, 0.03529412, 0.14509804]],\n",
       "\n",
       "       ...,\n",
       "\n",
       "       [[0.99607843, 0.25882353, 0.36862745],\n",
       "        [0.98823529, 0.24313725, 0.36078431],\n",
       "        [0.99215686, 0.25098039, 0.36470588],\n",
       "        ...,\n",
       "        [0.98823529, 0.2745098 , 0.39607843],\n",
       "        [0.99215686, 0.27058824, 0.40392157],\n",
       "        [0.98823529, 0.2745098 , 0.40784314]],\n",
       "\n",
       "       [[0.98039216, 0.19215686, 0.31764706],\n",
       "        [0.98823529, 0.20784314, 0.32156863],\n",
       "        [1.        , 0.23137255, 0.3372549 ],\n",
       "        ...,\n",
       "        [0.99607843, 0.2745098 , 0.40392157],\n",
       "        [1.        , 0.26666667, 0.39215686],\n",
       "        [0.99607843, 0.23137255, 0.34901961]],\n",
       "\n",
       "       [[0.9254902 , 0.14509804, 0.26666667],\n",
       "        [0.97647059, 0.18823529, 0.29803922],\n",
       "        [0.98039216, 0.16470588, 0.28627451],\n",
       "        ...,\n",
       "        [0.98039216, 0.30588235, 0.44313725],\n",
       "        [0.98039216, 0.29019608, 0.42745098],\n",
       "        [0.98431373, 0.22745098, 0.34509804]]])"
      ]
     },
     "execution_count": 16,
     "metadata": {},
     "output_type": "execute_result"
    }
   ],
   "source": [
    "Xtrain_scaled[21]"
   ]
  },
  {
   "cell_type": "code",
   "execution_count": 17,
   "id": "0d279cf3",
   "metadata": {},
   "outputs": [
    {
     "data": {
      "text/plain": [
       "array([[[ 90, 124, 149],\n",
       "        [ 90, 124, 149],\n",
       "        [ 91, 125, 150],\n",
       "        ...,\n",
       "        [103, 131, 148],\n",
       "        [100, 128, 146],\n",
       "        [100, 129, 146]],\n",
       "\n",
       "       [[ 92, 127, 153],\n",
       "        [ 93, 127, 152],\n",
       "        [ 94, 128, 153],\n",
       "        ...,\n",
       "        [114, 137, 151],\n",
       "        [103, 130, 148],\n",
       "        [102, 132, 152]],\n",
       "\n",
       "       [[ 93, 128, 153],\n",
       "        [ 93, 127, 152],\n",
       "        [ 94, 128, 152],\n",
       "        ...,\n",
       "        [114, 133, 145],\n",
       "        [103, 129, 147],\n",
       "        [101, 132, 152]],\n",
       "\n",
       "       ...,\n",
       "\n",
       "       [[101, 133, 154],\n",
       "        [101, 132, 153],\n",
       "        [102, 133, 154],\n",
       "        ...,\n",
       "        [ 94, 124, 150],\n",
       "        [ 92, 122, 148],\n",
       "        [ 91, 122, 148]],\n",
       "\n",
       "       [[100, 131, 153],\n",
       "        [101, 132, 153],\n",
       "        [102, 133, 154],\n",
       "        ...,\n",
       "        [ 93, 123, 149],\n",
       "        [ 90, 120, 146],\n",
       "        [ 90, 121, 147]],\n",
       "\n",
       "       [[ 99, 130, 152],\n",
       "        [100, 130, 151],\n",
       "        [101, 132, 153],\n",
       "        ...,\n",
       "        [ 92, 122, 148],\n",
       "        [ 90, 120, 146],\n",
       "        [ 89, 120, 146]]], dtype=uint8)"
      ]
     },
     "execution_count": 17,
     "metadata": {},
     "output_type": "execute_result"
    }
   ],
   "source": [
    "Xtest[10]"
   ]
  },
  {
   "cell_type": "code",
   "execution_count": 18,
   "id": "22372fd7",
   "metadata": {},
   "outputs": [
    {
     "data": {
      "text/plain": [
       "array([[[0.35294118, 0.48627451, 0.58431373],\n",
       "        [0.35294118, 0.48627451, 0.58431373],\n",
       "        [0.35686275, 0.49019608, 0.58823529],\n",
       "        ...,\n",
       "        [0.40392157, 0.51372549, 0.58039216],\n",
       "        [0.39215686, 0.50196078, 0.57254902],\n",
       "        [0.39215686, 0.50588235, 0.57254902]],\n",
       "\n",
       "       [[0.36078431, 0.49803922, 0.6       ],\n",
       "        [0.36470588, 0.49803922, 0.59607843],\n",
       "        [0.36862745, 0.50196078, 0.6       ],\n",
       "        ...,\n",
       "        [0.44705882, 0.5372549 , 0.59215686],\n",
       "        [0.40392157, 0.50980392, 0.58039216],\n",
       "        [0.4       , 0.51764706, 0.59607843]],\n",
       "\n",
       "       [[0.36470588, 0.50196078, 0.6       ],\n",
       "        [0.36470588, 0.49803922, 0.59607843],\n",
       "        [0.36862745, 0.50196078, 0.59607843],\n",
       "        ...,\n",
       "        [0.44705882, 0.52156863, 0.56862745],\n",
       "        [0.40392157, 0.50588235, 0.57647059],\n",
       "        [0.39607843, 0.51764706, 0.59607843]],\n",
       "\n",
       "       ...,\n",
       "\n",
       "       [[0.39607843, 0.52156863, 0.60392157],\n",
       "        [0.39607843, 0.51764706, 0.6       ],\n",
       "        [0.4       , 0.52156863, 0.60392157],\n",
       "        ...,\n",
       "        [0.36862745, 0.48627451, 0.58823529],\n",
       "        [0.36078431, 0.47843137, 0.58039216],\n",
       "        [0.35686275, 0.47843137, 0.58039216]],\n",
       "\n",
       "       [[0.39215686, 0.51372549, 0.6       ],\n",
       "        [0.39607843, 0.51764706, 0.6       ],\n",
       "        [0.4       , 0.52156863, 0.60392157],\n",
       "        ...,\n",
       "        [0.36470588, 0.48235294, 0.58431373],\n",
       "        [0.35294118, 0.47058824, 0.57254902],\n",
       "        [0.35294118, 0.4745098 , 0.57647059]],\n",
       "\n",
       "       [[0.38823529, 0.50980392, 0.59607843],\n",
       "        [0.39215686, 0.50980392, 0.59215686],\n",
       "        [0.39607843, 0.51764706, 0.6       ],\n",
       "        ...,\n",
       "        [0.36078431, 0.47843137, 0.58039216],\n",
       "        [0.35294118, 0.47058824, 0.57254902],\n",
       "        [0.34901961, 0.47058824, 0.57254902]]])"
      ]
     },
     "execution_count": 18,
     "metadata": {},
     "output_type": "execute_result"
    }
   ],
   "source": [
    "Xtest_scaled[10]"
   ]
  },
  {
   "cell_type": "code",
   "execution_count": 19,
   "id": "7bdeabba",
   "metadata": {},
   "outputs": [],
   "source": [
    "model = Sequential([\n",
    " \n",
    "    Flatten(input_shape=(32,32,3)),\n",
    "    Dense(128,'relu'),\n",
    "    Dense(64,'relu'),\n",
    "    Dense(32,'relu'),\n",
    "    Dense(64,'relu'),\n",
    "    Dense(128,'relu'),\n",
    "    Dense(10,'softmax')\n",
    "])"
   ]
  },
  {
   "cell_type": "code",
   "execution_count": 20,
   "id": "0107a7b6",
   "metadata": {},
   "outputs": [],
   "source": [
    "model.compile(optimizer='adam', loss = 'sparse_categorical_crossentropy',metrics=['accuracy'])"
   ]
  },
  {
   "cell_type": "code",
   "execution_count": 21,
   "id": "f2d5ec60",
   "metadata": {},
   "outputs": [
    {
     "name": "stdout",
     "output_type": "stream",
     "text": [
      "Epoch 1/10\n",
      "1563/1563 [==============================] - 24s 13ms/step - loss: 1.8802 - accuracy: 0.3104\n",
      "Epoch 2/10\n",
      "1563/1563 [==============================] - 20s 13ms/step - loss: 1.7437 - accuracy: 0.3664\n",
      "Epoch 3/10\n",
      "1563/1563 [==============================] - 21s 13ms/step - loss: 1.6804 - accuracy: 0.3925\n",
      "Epoch 4/10\n",
      "1563/1563 [==============================] - 21s 13ms/step - loss: 1.6312 - accuracy: 0.4115\n",
      "Epoch 5/10\n",
      "1563/1563 [==============================] - 21s 13ms/step - loss: 1.5919 - accuracy: 0.4245\n",
      "Epoch 6/10\n",
      "1563/1563 [==============================] - 20s 13ms/step - loss: 1.5629 - accuracy: 0.4365\n",
      "Epoch 7/10\n",
      "1563/1563 [==============================] - 19s 12ms/step - loss: 1.5318 - accuracy: 0.4467\n",
      "Epoch 8/10\n",
      "1563/1563 [==============================] - 19s 12ms/step - loss: 1.5109 - accuracy: 0.4566\n",
      "Epoch 9/10\n",
      "1563/1563 [==============================] - 18s 12ms/step - loss: 1.4922 - accuracy: 0.4621\n",
      "Epoch 10/10\n",
      "1563/1563 [==============================] - 18s 12ms/step - loss: 1.4752 - accuracy: 0.4687\n"
     ]
    },
    {
     "data": {
      "text/plain": [
       "<keras.callbacks.History at 0x256919a46a0>"
      ]
     },
     "execution_count": 21,
     "metadata": {},
     "output_type": "execute_result"
    }
   ],
   "source": [
    "model.fit(Xtrain_scaled,ytrain,epochs=10)"
   ]
  },
  {
   "cell_type": "code",
   "execution_count": 22,
   "id": "2e6b7eb7",
   "metadata": {},
   "outputs": [
    {
     "name": "stdout",
     "output_type": "stream",
     "text": [
      "313/313 [==============================] - 2s 4ms/step - loss: 1.4764 - accuracy: 0.4752\n"
     ]
    },
    {
     "data": {
      "text/plain": [
       "[1.4763565063476562, 0.47519999742507935]"
      ]
     },
     "execution_count": 22,
     "metadata": {},
     "output_type": "execute_result"
    }
   ],
   "source": [
    "model.evaluate(Xtest_scaled,ytest)"
   ]
  },
  {
   "cell_type": "code",
   "execution_count": null,
   "id": "388dff6d",
   "metadata": {},
   "outputs": [],
   "source": []
  }
 ],
 "metadata": {
  "kernelspec": {
   "display_name": "Python 3 (ipykernel)",
   "language": "python",
   "name": "python3"
  },
  "language_info": {
   "codemirror_mode": {
    "name": "ipython",
    "version": 3
   },
   "file_extension": ".py",
   "mimetype": "text/x-python",
   "name": "python",
   "nbconvert_exporter": "python",
   "pygments_lexer": "ipython3",
   "version": "3.9.13"
  }
 },
 "nbformat": 4,
 "nbformat_minor": 5
}
