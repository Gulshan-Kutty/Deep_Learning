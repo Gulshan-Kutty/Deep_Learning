{
 "cells": [
  {
   "cell_type": "markdown",
   "id": "eb0d22e4",
   "metadata": {},
   "source": [
    "## Circle On Click"
   ]
  },
  {
   "cell_type": "code",
   "execution_count": null,
   "id": "7005e209",
   "metadata": {},
   "outputs": [],
   "source": [
    "import cv2\n",
    "import numpy as np\n",
    "img_circle = np.zeros((512,512,3))"
   ]
  },
  {
   "cell_type": "code",
   "execution_count": null,
   "id": "a1b7806b",
   "metadata": {},
   "outputs": [],
   "source": [
    "def catchevent(event, x, y, flag, param):\n",
    "    \n",
    "    if event == 1:\n",
    "        cv2.circle(img_circle, center=(x,y), radius=50, color=(0,255,0), thickness=-1)\n",
    "   \n",
    "\n",
    "    \n",
    "\n",
    "cv2.namedWindow(winname='zero_window')\n",
    "cv2.setMouseCallback('zero_window', catchevent)\n",
    "\n",
    "\n",
    "\n",
    "while True:\n",
    "    cv2.imshow('zero_window', img_circle)\n",
    "    \n",
    "    if cv2.waitKey(1) & 0xFF == ord('x'):\n",
    "        break\n",
    "\n",
    "cv2.destroyAllWindows()"
   ]
  },
  {
   "cell_type": "markdown",
   "id": "05c69ce7",
   "metadata": {},
   "source": [
    "## Drag Rectangle"
   ]
  },
  {
   "cell_type": "code",
   "execution_count": null,
   "id": "ec786c0b",
   "metadata": {},
   "outputs": [],
   "source": [
    "img_drag = np.ones((512,512,3))\n",
    "\n",
    "f = False\n",
    "ix = -1\n",
    "iy = -1"
   ]
  },
  {
   "cell_type": "code",
   "execution_count": null,
   "id": "6ba31828",
   "metadata": {},
   "outputs": [],
   "source": [
    "def eventdrag(event, x, y, flag, param):\n",
    "    global f, ix, iy\n",
    "    if event == 1:\n",
    "        f = True\n",
    "        ix = x\n",
    "        iy = y\n",
    "\n",
    "    elif event == 0:\n",
    "        if f == True:\n",
    "            cv2.rectangle(img_drag, pt1=(ix,iy), pt2=(x,y), color=(0,255,0), thickness = -1)\n",
    "            \n",
    "    else:\n",
    "        f = False\n",
    "        cv2.rectangle(img_drag, pt1=(ix,iy), pt2=(x,y), color=(0,255,0), thickness = -1)\n",
    "\n",
    "cv2.namedWindow(winname='img_drag')\n",
    "cv2.setMouseCallback('img_drag', eventdrag)\n",
    "\n",
    "\n",
    "while True:\n",
    "    cv2.imshow('img_drag', img_drag)\n",
    "    \n",
    "    if cv2.waitKey(1) & 0xFF == ord('x'):\n",
    "        break\n",
    "        \n",
    "cv2.destroyAllWindows()"
   ]
  },
  {
   "cell_type": "code",
   "execution_count": null,
   "id": "731c23ea",
   "metadata": {},
   "outputs": [],
   "source": []
  }
 ],
 "metadata": {
  "kernelspec": {
   "display_name": "Python 3 (ipykernel)",
   "language": "python",
   "name": "python3"
  },
  "language_info": {
   "codemirror_mode": {
    "name": "ipython",
    "version": 3
   },
   "file_extension": ".py",
   "mimetype": "text/x-python",
   "name": "python",
   "nbconvert_exporter": "python",
   "pygments_lexer": "ipython3",
   "version": "3.9.13"
  }
 },
 "nbformat": 4,
 "nbformat_minor": 5
}
