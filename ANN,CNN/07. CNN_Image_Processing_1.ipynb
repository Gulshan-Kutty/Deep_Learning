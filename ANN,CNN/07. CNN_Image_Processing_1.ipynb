{
 "cells": [
  {
   "cell_type": "code",
   "execution_count": 1,
   "id": "2a6fc66b",
   "metadata": {},
   "outputs": [],
   "source": [
    "import cv2"
   ]
  },
  {
   "cell_type": "code",
   "execution_count": 2,
   "id": "4c5ea479",
   "metadata": {},
   "outputs": [],
   "source": [
    "img = cv2.imread('C:\\\\Users\\\\91976\\\\OneDrive\\\\Desktop\\\\india-map.jpg')"
   ]
  },
  {
   "cell_type": "code",
   "execution_count": 3,
   "id": "fa7516ac",
   "metadata": {},
   "outputs": [
    {
     "data": {
      "text/plain": [
       "array([[[229, 229, 229],\n",
       "        [228, 228, 228],\n",
       "        [227, 227, 227],\n",
       "        ...,\n",
       "        [228, 228, 228],\n",
       "        [228, 228, 228],\n",
       "        [228, 228, 228]],\n",
       "\n",
       "       [[229, 229, 229],\n",
       "        [228, 228, 228],\n",
       "        [227, 227, 227],\n",
       "        ...,\n",
       "        [228, 228, 228],\n",
       "        [228, 228, 228],\n",
       "        [228, 228, 228]],\n",
       "\n",
       "       [[228, 228, 228],\n",
       "        [228, 228, 228],\n",
       "        [227, 227, 227],\n",
       "        ...,\n",
       "        [228, 228, 228],\n",
       "        [228, 228, 228],\n",
       "        [228, 228, 228]],\n",
       "\n",
       "       ...,\n",
       "\n",
       "       [[226, 234, 224],\n",
       "        [224, 228, 223],\n",
       "        [226, 226, 226],\n",
       "        ...,\n",
       "        [228, 228, 228],\n",
       "        [228, 228, 228],\n",
       "        [228, 228, 228]],\n",
       "\n",
       "       [[232, 232, 232],\n",
       "        [232, 232, 232],\n",
       "        [232, 232, 232],\n",
       "        ...,\n",
       "        [231, 231, 231],\n",
       "        [231, 231, 231],\n",
       "        [231, 231, 231]],\n",
       "\n",
       "       [[233, 233, 233],\n",
       "        [233, 233, 233],\n",
       "        [233, 233, 233],\n",
       "        ...,\n",
       "        [231, 231, 231],\n",
       "        [231, 231, 231],\n",
       "        [231, 231, 231]]], dtype=uint8)"
      ]
     },
     "execution_count": 3,
     "metadata": {},
     "output_type": "execute_result"
    }
   ],
   "source": [
    "img"
   ]
  },
  {
   "cell_type": "code",
   "execution_count": 4,
   "id": "7e1168a8",
   "metadata": {},
   "outputs": [
    {
     "data": {
      "text/plain": [
       "(834, 700, 3)"
      ]
     },
     "execution_count": 4,
     "metadata": {},
     "output_type": "execute_result"
    }
   ],
   "source": [
    "img.shape"
   ]
  },
  {
   "cell_type": "code",
   "execution_count": 5,
   "id": "c8fe12a0",
   "metadata": {},
   "outputs": [
    {
     "data": {
      "text/plain": [
       "-1"
      ]
     },
     "execution_count": 5,
     "metadata": {},
     "output_type": "execute_result"
    }
   ],
   "source": [
    "cv2.imshow('india window',img)\n",
    "cv2.waitKey(-1)"
   ]
  },
  {
   "cell_type": "markdown",
   "id": "8420d2a8",
   "metadata": {},
   "source": [
    "## To convert image to grey-scale(black n white)"
   ]
  },
  {
   "cell_type": "code",
   "execution_count": 6,
   "id": "ee6ee978",
   "metadata": {},
   "outputs": [
    {
     "data": {
      "text/plain": [
       "-1"
      ]
     },
     "execution_count": 6,
     "metadata": {},
     "output_type": "execute_result"
    }
   ],
   "source": [
    "cv2.imshow('india window',img)\n",
    "cv2.waitKey(-1)"
   ]
  },
  {
   "cell_type": "code",
   "execution_count": 7,
   "id": "ce679fff",
   "metadata": {},
   "outputs": [],
   "source": [
    "img_grey = cv2.cvtColor(img, cv2.COLOR_BGR2GRAY)"
   ]
  },
  {
   "cell_type": "code",
   "execution_count": 8,
   "id": "f7127ce7",
   "metadata": {},
   "outputs": [
    {
     "data": {
      "text/plain": [
       "(834, 700, 3)"
      ]
     },
     "execution_count": 8,
     "metadata": {},
     "output_type": "execute_result"
    }
   ],
   "source": [
    "img.shape"
   ]
  },
  {
   "cell_type": "code",
   "execution_count": 9,
   "id": "6d267a9d",
   "metadata": {},
   "outputs": [
    {
     "data": {
      "text/plain": [
       "(834, 700)"
      ]
     },
     "execution_count": 9,
     "metadata": {},
     "output_type": "execute_result"
    }
   ],
   "source": [
    "img_grey.shape"
   ]
  },
  {
   "cell_type": "code",
   "execution_count": 10,
   "id": "02e3a17c",
   "metadata": {},
   "outputs": [
    {
     "data": {
      "text/plain": [
       "-1"
      ]
     },
     "execution_count": 10,
     "metadata": {},
     "output_type": "execute_result"
    }
   ],
   "source": [
    "cv2.imshow('India Grey', img_grey)\n",
    "cv2.waitKey(-1)"
   ]
  },
  {
   "cell_type": "markdown",
   "id": "33ab91af",
   "metadata": {},
   "source": [
    "## Changing Image Color"
   ]
  },
  {
   "cell_type": "code",
   "execution_count": 11,
   "id": "5650fbd7",
   "metadata": {},
   "outputs": [
    {
     "data": {
      "text/plain": [
       "-1"
      ]
     },
     "execution_count": 11,
     "metadata": {},
     "output_type": "execute_result"
    }
   ],
   "source": [
    "cv2.imshow('india window',img)\n",
    "cv2.waitKey(-1)"
   ]
  },
  {
   "cell_type": "code",
   "execution_count": 12,
   "id": "44b5a1a5",
   "metadata": {},
   "outputs": [
    {
     "data": {
      "text/plain": [
       "(834, 700, 3)"
      ]
     },
     "execution_count": 12,
     "metadata": {},
     "output_type": "execute_result"
    }
   ],
   "source": [
    "img.shape"
   ]
  },
  {
   "cell_type": "code",
   "execution_count": 13,
   "id": "a084ac72",
   "metadata": {},
   "outputs": [],
   "source": [
    "import numpy as np"
   ]
  },
  {
   "cell_type": "code",
   "execution_count": 14,
   "id": "061eb927",
   "metadata": {},
   "outputs": [],
   "source": [
    "ary1 = np.random.randint(10,50,(2,4,6))"
   ]
  },
  {
   "cell_type": "code",
   "execution_count": 15,
   "id": "a5a7d8d6",
   "metadata": {},
   "outputs": [
    {
     "data": {
      "text/plain": [
       "array([[[44, 36, 22, 11, 47, 35],\n",
       "        [28, 34, 23, 30, 37, 35],\n",
       "        [44, 21, 43, 35, 42, 37],\n",
       "        [15, 29, 35, 32, 39, 26]],\n",
       "\n",
       "       [[26, 39, 26, 33, 30, 12],\n",
       "        [20, 28, 21, 46, 32, 33],\n",
       "        [35, 23, 18, 31, 22, 19],\n",
       "        [46, 30, 39, 27, 16, 49]]])"
      ]
     },
     "execution_count": 15,
     "metadata": {},
     "output_type": "execute_result"
    }
   ],
   "source": [
    "ary1"
   ]
  },
  {
   "cell_type": "code",
   "execution_count": 16,
   "id": "9ab7e38d",
   "metadata": {},
   "outputs": [
    {
     "data": {
      "text/plain": [
       "(2, 4, 6)"
      ]
     },
     "execution_count": 16,
     "metadata": {},
     "output_type": "execute_result"
    }
   ],
   "source": [
    "ary1.shape"
   ]
  },
  {
   "cell_type": "code",
   "execution_count": 17,
   "id": "089815d9",
   "metadata": {},
   "outputs": [
    {
     "data": {
      "text/plain": [
       "(834, 700, 3)"
      ]
     },
     "execution_count": 17,
     "metadata": {},
     "output_type": "execute_result"
    }
   ],
   "source": [
    "img.shape"
   ]
  },
  {
   "cell_type": "code",
   "execution_count": 18,
   "id": "0cc71979",
   "metadata": {},
   "outputs": [],
   "source": [
    "img_0 = img.copy()"
   ]
  },
  {
   "cell_type": "code",
   "execution_count": 19,
   "id": "03ac6f7f",
   "metadata": {},
   "outputs": [],
   "source": [
    "img_1 = img.copy()"
   ]
  },
  {
   "cell_type": "code",
   "execution_count": 20,
   "id": "c4c74ae8",
   "metadata": {},
   "outputs": [],
   "source": [
    "img_2 = img.copy()"
   ]
  },
  {
   "cell_type": "code",
   "execution_count": 21,
   "id": "b5c7bedd",
   "metadata": {},
   "outputs": [
    {
     "data": {
      "text/plain": [
       "-1"
      ]
     },
     "execution_count": 21,
     "metadata": {},
     "output_type": "execute_result"
    }
   ],
   "source": [
    "cv2.imshow('india window',img_0)\n",
    "cv2.waitKey(-1)"
   ]
  },
  {
   "cell_type": "code",
   "execution_count": 22,
   "id": "ca0c4106",
   "metadata": {},
   "outputs": [
    {
     "data": {
      "text/plain": [
       "-1"
      ]
     },
     "execution_count": 22,
     "metadata": {},
     "output_type": "execute_result"
    }
   ],
   "source": [
    "cv2.imshow('india window',img_1)\n",
    "cv2.waitKey(-1)"
   ]
  },
  {
   "cell_type": "code",
   "execution_count": 23,
   "id": "aa8199b0",
   "metadata": {},
   "outputs": [
    {
     "data": {
      "text/plain": [
       "-1"
      ]
     },
     "execution_count": 23,
     "metadata": {},
     "output_type": "execute_result"
    }
   ],
   "source": [
    "cv2.imshow('india window',img_2)\n",
    "cv2.waitKey(-1)"
   ]
  },
  {
   "cell_type": "markdown",
   "id": "6df298e2",
   "metadata": {},
   "source": [
    "### 1. Red is zero"
   ]
  },
  {
   "cell_type": "code",
   "execution_count": 24,
   "id": "ffb6ee2b",
   "metadata": {},
   "outputs": [],
   "source": [
    "img_0[ : , : , 0] = 0\n",
    "# removed red color"
   ]
  },
  {
   "cell_type": "code",
   "execution_count": 25,
   "id": "8537dc00",
   "metadata": {},
   "outputs": [
    {
     "data": {
      "text/plain": [
       "-1"
      ]
     },
     "execution_count": 25,
     "metadata": {},
     "output_type": "execute_result"
    }
   ],
   "source": [
    "cv2.imshow('img_0 window',img_0)\n",
    "cv2.waitKey(-1)"
   ]
  },
  {
   "cell_type": "markdown",
   "id": "f2390f78",
   "metadata": {},
   "source": [
    "### 2. Green is Zero"
   ]
  },
  {
   "cell_type": "code",
   "execution_count": 26,
   "id": "51afdf88",
   "metadata": {},
   "outputs": [],
   "source": [
    "img_1[ : , : , 1] = 0\n",
    "# removed green color"
   ]
  },
  {
   "cell_type": "code",
   "execution_count": 27,
   "id": "49a47796",
   "metadata": {},
   "outputs": [
    {
     "data": {
      "text/plain": [
       "-1"
      ]
     },
     "execution_count": 27,
     "metadata": {},
     "output_type": "execute_result"
    }
   ],
   "source": [
    "cv2.imshow('img_1 window',img_1)\n",
    "cv2.waitKey(-1)"
   ]
  },
  {
   "cell_type": "markdown",
   "id": "7df601e3",
   "metadata": {},
   "source": [
    "### 3. Blue is Zero"
   ]
  },
  {
   "cell_type": "code",
   "execution_count": 28,
   "id": "341417e4",
   "metadata": {},
   "outputs": [],
   "source": [
    "img_2[ : , : , 2] = 0\n",
    "# removed blue color"
   ]
  },
  {
   "cell_type": "code",
   "execution_count": 29,
   "id": "09ea349d",
   "metadata": {},
   "outputs": [
    {
     "data": {
      "text/plain": [
       "-1"
      ]
     },
     "execution_count": 29,
     "metadata": {},
     "output_type": "execute_result"
    }
   ],
   "source": [
    "cv2.imshow('img_2 window',img_2)\n",
    "cv2.waitKey(-1)"
   ]
  },
  {
   "cell_type": "code",
   "execution_count": 30,
   "id": "4106e43f",
   "metadata": {},
   "outputs": [
    {
     "data": {
      "text/plain": [
       "-1"
      ]
     },
     "execution_count": 30,
     "metadata": {},
     "output_type": "execute_result"
    }
   ],
   "source": [
    "cv2.imshow('india window',img)\n",
    "cv2.waitKey(-1)"
   ]
  },
  {
   "cell_type": "code",
   "execution_count": 32,
   "id": "7681580c",
   "metadata": {},
   "outputs": [],
   "source": [
    "imgstack = np.hstack((img, img_0, img_1, img_2))"
   ]
  },
  {
   "cell_type": "code",
   "execution_count": 33,
   "id": "71a45132",
   "metadata": {},
   "outputs": [
    {
     "data": {
      "text/plain": [
       "-1"
      ]
     },
     "execution_count": 33,
     "metadata": {},
     "output_type": "execute_result"
    }
   ],
   "source": [
    "cv2.imshow('imgstack window',imgstack)\n",
    "cv2.waitKey(-1)"
   ]
  },
  {
   "cell_type": "markdown",
   "id": "415b4028",
   "metadata": {},
   "source": [
    "## Image Resize"
   ]
  },
  {
   "cell_type": "code",
   "execution_count": 34,
   "id": "989efae8",
   "metadata": {},
   "outputs": [
    {
     "data": {
      "text/plain": [
       "array([[[229, 229, 229],\n",
       "        [228, 228, 228],\n",
       "        [227, 227, 227],\n",
       "        ...,\n",
       "        [228, 228, 228],\n",
       "        [228, 228, 228],\n",
       "        [228, 228, 228]],\n",
       "\n",
       "       [[229, 229, 229],\n",
       "        [228, 228, 228],\n",
       "        [227, 227, 227],\n",
       "        ...,\n",
       "        [228, 228, 228],\n",
       "        [228, 228, 228],\n",
       "        [228, 228, 228]],\n",
       "\n",
       "       [[228, 228, 228],\n",
       "        [228, 228, 228],\n",
       "        [227, 227, 227],\n",
       "        ...,\n",
       "        [228, 228, 228],\n",
       "        [228, 228, 228],\n",
       "        [228, 228, 228]],\n",
       "\n",
       "       ...,\n",
       "\n",
       "       [[226, 234, 224],\n",
       "        [224, 228, 223],\n",
       "        [226, 226, 226],\n",
       "        ...,\n",
       "        [228, 228, 228],\n",
       "        [228, 228, 228],\n",
       "        [228, 228, 228]],\n",
       "\n",
       "       [[232, 232, 232],\n",
       "        [232, 232, 232],\n",
       "        [232, 232, 232],\n",
       "        ...,\n",
       "        [231, 231, 231],\n",
       "        [231, 231, 231],\n",
       "        [231, 231, 231]],\n",
       "\n",
       "       [[233, 233, 233],\n",
       "        [233, 233, 233],\n",
       "        [233, 233, 233],\n",
       "        ...,\n",
       "        [231, 231, 231],\n",
       "        [231, 231, 231],\n",
       "        [231, 231, 231]]], dtype=uint8)"
      ]
     },
     "execution_count": 34,
     "metadata": {},
     "output_type": "execute_result"
    }
   ],
   "source": [
    "img"
   ]
  },
  {
   "cell_type": "code",
   "execution_count": 35,
   "id": "22ebe487",
   "metadata": {},
   "outputs": [
    {
     "data": {
      "text/plain": [
       "-1"
      ]
     },
     "execution_count": 35,
     "metadata": {},
     "output_type": "execute_result"
    }
   ],
   "source": [
    "cv2.imshow('india window',img)\n",
    "cv2.waitKey(-1)"
   ]
  },
  {
   "cell_type": "code",
   "execution_count": 36,
   "id": "4b0e2717",
   "metadata": {},
   "outputs": [
    {
     "data": {
      "text/plain": [
       "(834, 700, 3)"
      ]
     },
     "execution_count": 36,
     "metadata": {},
     "output_type": "execute_result"
    }
   ],
   "source": [
    "img.shape"
   ]
  },
  {
   "cell_type": "code",
   "execution_count": 50,
   "id": "e8ecc349",
   "metadata": {},
   "outputs": [],
   "source": [
    "img_small = cv2.resize(img, (400,500))"
   ]
  },
  {
   "cell_type": "code",
   "execution_count": 51,
   "id": "64d739b6",
   "metadata": {},
   "outputs": [
    {
     "data": {
      "text/plain": [
       "(500, 400, 3)"
      ]
     },
     "execution_count": 51,
     "metadata": {},
     "output_type": "execute_result"
    }
   ],
   "source": [
    "img_small.shape"
   ]
  },
  {
   "cell_type": "code",
   "execution_count": 52,
   "id": "9b5f781c",
   "metadata": {},
   "outputs": [
    {
     "data": {
      "text/plain": [
       "-1"
      ]
     },
     "execution_count": 52,
     "metadata": {},
     "output_type": "execute_result"
    }
   ],
   "source": [
    "cv2.imshow('img_small window',img_small)\n",
    "cv2.waitKey(-1)"
   ]
  },
  {
   "cell_type": "code",
   "execution_count": 53,
   "id": "12b2574d",
   "metadata": {},
   "outputs": [],
   "source": [
    "img_big = cv2.resize(img, (900,1000))"
   ]
  },
  {
   "cell_type": "code",
   "execution_count": 54,
   "id": "53fef0f1",
   "metadata": {},
   "outputs": [
    {
     "data": {
      "text/plain": [
       "(1000, 900, 3)"
      ]
     },
     "execution_count": 54,
     "metadata": {},
     "output_type": "execute_result"
    }
   ],
   "source": [
    "img_big.shape"
   ]
  },
  {
   "cell_type": "code",
   "execution_count": 55,
   "id": "b45acd3d",
   "metadata": {},
   "outputs": [
    {
     "data": {
      "text/plain": [
       "-1"
      ]
     },
     "execution_count": 55,
     "metadata": {},
     "output_type": "execute_result"
    }
   ],
   "source": [
    "cv2.imshow('img_big window',img_big)\n",
    "cv2.waitKey(-1)"
   ]
  },
  {
   "cell_type": "markdown",
   "id": "0b549309",
   "metadata": {},
   "source": [
    "### Saving Image"
   ]
  },
  {
   "cell_type": "code",
   "execution_count": 56,
   "id": "f7eff86c",
   "metadata": {},
   "outputs": [
    {
     "data": {
      "text/plain": [
       "True"
      ]
     },
     "execution_count": 56,
     "metadata": {},
     "output_type": "execute_result"
    }
   ],
   "source": [
    "cv2.imwrite('india.jpg', img)"
   ]
  },
  {
   "cell_type": "code",
   "execution_count": 58,
   "id": "ac63fabe",
   "metadata": {},
   "outputs": [
    {
     "data": {
      "text/plain": [
       "True"
      ]
     },
     "execution_count": 58,
     "metadata": {},
     "output_type": "execute_result"
    }
   ],
   "source": [
    "cv2.imwrite('india_small.jpg', img_small)"
   ]
  },
  {
   "cell_type": "code",
   "execution_count": 59,
   "id": "1a06ba2a",
   "metadata": {},
   "outputs": [
    {
     "data": {
      "text/plain": [
       "True"
      ]
     },
     "execution_count": 59,
     "metadata": {},
     "output_type": "execute_result"
    }
   ],
   "source": [
    "cv2.imwrite('india_big.jpg', img_big)"
   ]
  },
  {
   "cell_type": "markdown",
   "id": "657c6819",
   "metadata": {},
   "source": [
    "### Reshape to half"
   ]
  },
  {
   "cell_type": "code",
   "execution_count": 60,
   "id": "2a147100",
   "metadata": {},
   "outputs": [
    {
     "data": {
      "text/plain": [
       "(834, 700, 3)"
      ]
     },
     "execution_count": 60,
     "metadata": {},
     "output_type": "execute_result"
    }
   ],
   "source": [
    "img.shape"
   ]
  },
  {
   "cell_type": "code",
   "execution_count": 61,
   "id": "ffd72be6",
   "metadata": {},
   "outputs": [
    {
     "data": {
      "text/plain": [
       "417"
      ]
     },
     "execution_count": 61,
     "metadata": {},
     "output_type": "execute_result"
    }
   ],
   "source": [
    "img.shape[0]//2"
   ]
  },
  {
   "cell_type": "code",
   "execution_count": 62,
   "id": "74f58ab8",
   "metadata": {},
   "outputs": [
    {
     "data": {
      "text/plain": [
       "350"
      ]
     },
     "execution_count": 62,
     "metadata": {},
     "output_type": "execute_result"
    }
   ],
   "source": [
    "img.shape[1]//2"
   ]
  },
  {
   "cell_type": "code",
   "execution_count": 63,
   "id": "6a2275e0",
   "metadata": {},
   "outputs": [],
   "source": [
    "img_half = cv2.resize(img, (img.shape[1]//2,img.shape[0]//2))"
   ]
  },
  {
   "cell_type": "code",
   "execution_count": 64,
   "id": "f792bd6d",
   "metadata": {},
   "outputs": [
    {
     "data": {
      "text/plain": [
       "(417, 350, 3)"
      ]
     },
     "execution_count": 64,
     "metadata": {},
     "output_type": "execute_result"
    }
   ],
   "source": [
    "img_half.shape"
   ]
  },
  {
   "cell_type": "code",
   "execution_count": 65,
   "id": "0dc49c46",
   "metadata": {},
   "outputs": [
    {
     "data": {
      "text/plain": [
       "-1"
      ]
     },
     "execution_count": 65,
     "metadata": {},
     "output_type": "execute_result"
    }
   ],
   "source": [
    "cv2.imshow('img_half window',img_half)\n",
    "cv2.waitKey(-1)"
   ]
  },
  {
   "cell_type": "markdown",
   "id": "aed3fb76",
   "metadata": {},
   "source": [
    "## Image Flip"
   ]
  },
  {
   "cell_type": "code",
   "execution_count": 66,
   "id": "90bc9890",
   "metadata": {},
   "outputs": [
    {
     "data": {
      "text/plain": [
       "array([[[229, 229, 229],\n",
       "        [228, 228, 228],\n",
       "        [227, 227, 227],\n",
       "        ...,\n",
       "        [228, 228, 228],\n",
       "        [228, 228, 228],\n",
       "        [228, 228, 228]],\n",
       "\n",
       "       [[229, 229, 229],\n",
       "        [228, 228, 228],\n",
       "        [227, 227, 227],\n",
       "        ...,\n",
       "        [228, 228, 228],\n",
       "        [228, 228, 228],\n",
       "        [228, 228, 228]],\n",
       "\n",
       "       [[228, 228, 228],\n",
       "        [228, 228, 228],\n",
       "        [227, 227, 227],\n",
       "        ...,\n",
       "        [228, 228, 228],\n",
       "        [228, 228, 228],\n",
       "        [228, 228, 228]],\n",
       "\n",
       "       ...,\n",
       "\n",
       "       [[226, 234, 224],\n",
       "        [224, 228, 223],\n",
       "        [226, 226, 226],\n",
       "        ...,\n",
       "        [228, 228, 228],\n",
       "        [228, 228, 228],\n",
       "        [228, 228, 228]],\n",
       "\n",
       "       [[232, 232, 232],\n",
       "        [232, 232, 232],\n",
       "        [232, 232, 232],\n",
       "        ...,\n",
       "        [231, 231, 231],\n",
       "        [231, 231, 231],\n",
       "        [231, 231, 231]],\n",
       "\n",
       "       [[233, 233, 233],\n",
       "        [233, 233, 233],\n",
       "        [233, 233, 233],\n",
       "        ...,\n",
       "        [231, 231, 231],\n",
       "        [231, 231, 231],\n",
       "        [231, 231, 231]]], dtype=uint8)"
      ]
     },
     "execution_count": 66,
     "metadata": {},
     "output_type": "execute_result"
    }
   ],
   "source": [
    "img"
   ]
  },
  {
   "cell_type": "code",
   "execution_count": 67,
   "id": "b9e3b919",
   "metadata": {},
   "outputs": [
    {
     "data": {
      "text/plain": [
       "-1"
      ]
     },
     "execution_count": 67,
     "metadata": {},
     "output_type": "execute_result"
    }
   ],
   "source": [
    "cv2.imshow('india window',img)\n",
    "cv2.waitKey(-1)"
   ]
  },
  {
   "cell_type": "code",
   "execution_count": 68,
   "id": "a279ac6b",
   "metadata": {},
   "outputs": [],
   "source": [
    "img_flip_0 = cv2.flip(img, 0)\n",
    "# it's like water image"
   ]
  },
  {
   "cell_type": "code",
   "execution_count": 69,
   "id": "dbdbbdaf",
   "metadata": {},
   "outputs": [
    {
     "data": {
      "text/plain": [
       "-1"
      ]
     },
     "execution_count": 69,
     "metadata": {},
     "output_type": "execute_result"
    }
   ],
   "source": [
    "cv2.imshow('img_flip_0 window',img_flip_0)\n",
    "cv2.waitKey(-1)"
   ]
  },
  {
   "cell_type": "code",
   "execution_count": 70,
   "id": "c8be01fb",
   "metadata": {},
   "outputs": [],
   "source": [
    "img_flip_1 = cv2.flip(img, 1)\n",
    "# it's like mirror image but on left side"
   ]
  },
  {
   "cell_type": "code",
   "execution_count": 72,
   "id": "58ac7769",
   "metadata": {},
   "outputs": [
    {
     "data": {
      "text/plain": [
       "-1"
      ]
     },
     "execution_count": 72,
     "metadata": {},
     "output_type": "execute_result"
    }
   ],
   "source": [
    "cv2.imshow('img_flip_1 window',img_flip_1)\n",
    "cv2.waitKey(-1)"
   ]
  },
  {
   "cell_type": "markdown",
   "id": "43829384",
   "metadata": {},
   "source": [
    "## Crop Image"
   ]
  },
  {
   "cell_type": "code",
   "execution_count": 73,
   "id": "7039563f",
   "metadata": {},
   "outputs": [
    {
     "data": {
      "text/plain": [
       "(834, 700, 3)"
      ]
     },
     "execution_count": 73,
     "metadata": {},
     "output_type": "execute_result"
    }
   ],
   "source": [
    "img.shape"
   ]
  },
  {
   "cell_type": "code",
   "execution_count": 74,
   "id": "218ffa9f",
   "metadata": {},
   "outputs": [
    {
     "data": {
      "text/plain": [
       "-1"
      ]
     },
     "execution_count": 74,
     "metadata": {},
     "output_type": "execute_result"
    }
   ],
   "source": [
    "cv2.imshow('india window',img)\n",
    "cv2.waitKey(-1)"
   ]
  },
  {
   "cell_type": "code",
   "execution_count": 75,
   "id": "788dd6a4",
   "metadata": {},
   "outputs": [],
   "source": [
    "img_crop = img[0:300, 0:300]"
   ]
  },
  {
   "cell_type": "code",
   "execution_count": 76,
   "id": "6767cbe5",
   "metadata": {},
   "outputs": [
    {
     "data": {
      "text/plain": [
       "(300, 300, 3)"
      ]
     },
     "execution_count": 76,
     "metadata": {},
     "output_type": "execute_result"
    }
   ],
   "source": [
    "img_crop.shape"
   ]
  },
  {
   "cell_type": "code",
   "execution_count": 77,
   "id": "2df81947",
   "metadata": {},
   "outputs": [
    {
     "data": {
      "text/plain": [
       "-1"
      ]
     },
     "execution_count": 77,
     "metadata": {},
     "output_type": "execute_result"
    }
   ],
   "source": [
    "cv2.imshow('img_crop window',img_crop)\n",
    "cv2.waitKey(-1)"
   ]
  },
  {
   "cell_type": "code",
   "execution_count": null,
   "id": "2b34aeb2",
   "metadata": {},
   "outputs": [],
   "source": []
  }
 ],
 "metadata": {
  "kernelspec": {
   "display_name": "Python 3 (ipykernel)",
   "language": "python",
   "name": "python3"
  },
  "language_info": {
   "codemirror_mode": {
    "name": "ipython",
    "version": 3
   },
   "file_extension": ".py",
   "mimetype": "text/x-python",
   "name": "python",
   "nbconvert_exporter": "python",
   "pygments_lexer": "ipython3",
   "version": "3.9.13"
  }
 },
 "nbformat": 4,
 "nbformat_minor": 5
}
