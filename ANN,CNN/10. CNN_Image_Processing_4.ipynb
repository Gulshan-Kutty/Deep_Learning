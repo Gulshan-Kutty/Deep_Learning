{
 "cells": [
  {
   "cell_type": "markdown",
   "id": "6ba72b59",
   "metadata": {},
   "source": [
    "## Drag_Crop Image"
   ]
  },
  {
   "cell_type": "code",
   "execution_count": null,
   "id": "a4729037",
   "metadata": {},
   "outputs": [],
   "source": [
    "import cv2\n",
    "import numpy as np"
   ]
  },
  {
   "cell_type": "code",
   "execution_count": null,
   "id": "a7344d72",
   "metadata": {},
   "outputs": [],
   "source": [
    "img = cv2.imread('tree.jpg')\n",
    "f = False\n",
    "ix = -1\n",
    "iy = -1"
   ]
  },
  {
   "cell_type": "code",
   "execution_count": null,
   "id": "7a27a5d6",
   "metadata": {},
   "outputs": [],
   "source": [
    "def tree_event(event, x, y, flag, param):\n",
    "    global f, ix, iy\n",
    "    if event == 1:\n",
    "        f = True\n",
    "        ix = x\n",
    "        iy = y\n",
    "\n",
    "    elif event == 4:\n",
    "        f = False\n",
    "        cv2.rectangle(img, pt1=(ix,iy), pt2=(x,y), color=(255,0,0), thickness = 3)\n",
    "        \n",
    "        \n",
    "        fx = x\n",
    "        fy = y\n",
    "        \n",
    "        crop_img = img[iy : fy, ix : fx]\n",
    "        cv2.imshow('crop_window', crop_img)\n",
    "\n",
    "cv2.namedWindow(winname='tree_window')\n",
    "cv2.setMouseCallback('tree_window', tree_event)\n",
    "\n",
    "\n",
    "while True:\n",
    "    cv2.imshow('tree_window', img)\n",
    "    \n",
    "    if cv2.waitKey(1) & 0xFF == ord('x'):\n",
    "        break\n",
    "        \n",
    "cv2.destroyAllWindows()"
   ]
  },
  {
   "cell_type": "code",
   "execution_count": null,
   "id": "03c9a15c",
   "metadata": {},
   "outputs": [],
   "source": []
  }
 ],
 "metadata": {
  "kernelspec": {
   "display_name": "Python 3 (ipykernel)",
   "language": "python",
   "name": "python3"
  },
  "language_info": {
   "codemirror_mode": {
    "name": "ipython",
    "version": 3
   },
   "file_extension": ".py",
   "mimetype": "text/x-python",
   "name": "python",
   "nbconvert_exporter": "python",
   "pygments_lexer": "ipython3",
   "version": "3.9.13"
  }
 },
 "nbformat": 4,
 "nbformat_minor": 5
}
